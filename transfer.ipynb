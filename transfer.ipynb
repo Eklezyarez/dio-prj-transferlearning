{
  "cells": [
    {
      "cell_type": "code",
      "execution_count": null,
      "metadata": {
        "colab": {
          "base_uri": "https://localhost:8080/",
          "height": 34
        },
        "colab_type": "code",
        "id": "7q906nBeeHAo",
        "outputId": "b19b971f-d058-468b-cda9-e56b86e7334e"
      },
      "outputs": [],
      "source": [
        "import pandas as pd\n",
        "import numpy as np\n",
        "import os\n",
        "import keras\n",
        "import matplotlib.pyplot as plt\n",
        "from keras.layers import Dense,GlobalAveragePooling2D\n",
        "from keras.applications import MobileNet\n",
        "from keras.preprocessing import image\n",
        "from keras.applications.mobilenet import preprocess_input\n",
        "from keras.preprocessing.image import ImageDataGenerator\n",
        "from keras.models import Model\n",
        "from keras.optimizers import Adam\n",
        "from keras.layers import Dropout"
      ]
    },
    {
      "cell_type": "code",
      "execution_count": null,
      "metadata": {
        
        "colab": {},
        "colab_type": "code",
        "id": "1B3-bKjBwReh"
      },
      "outputs": [],
      "source": [
        "model=MobileNet(weights='imagenet',include_top=False)"
      ]
    },
    {
      "cell_type": "code",
      "execution_count": null,
      "metadata": {
        "colab": {},
        "colab_type": "code",
        "id": "PwwGWkXWwi9G"
      },
      "outputs": [],
      "source": [
        "x=model.output\n",
        "x=GlobalAveragePooling2D()(x)"
      ]
    },
    {
      "cell_type": "code",
      "execution_count": null,
      "metadata": {
        "colab": {},
        "colab_type": "code",
        "id": "f-g5WXZ2ebil"
      },
      "outputs": [],
      "source": [
        "x=Dense(50,activation='relu')(x)\n",
        "preds=Dense(1,activation='sigmoid')(x) \n",
        "model=Model(inputs=model.input,outputs=preds)"
      ]
    },
    {
      "cell_type": "code",
      "execution_count": null,
      "metadata": {
        "colab": {},
        "colab_type": "code",
        "id": "55aGsU4ufgJE"
      },
      "outputs": [],
      "source": [
        "for layer in model.layers[:88]:\n",
        "    layer.trainable=False\n",
        "for layer in model.layers[88:]:\n",
        "    layer.trainable=True"
      ]
    },
    {
      "cell_type": "code",
      "execution_count": null,
      "metadata": {
        "colab": {},
        "colab_type": "code",
        "id": "nYPnSrmQhDSq"
      },
      "outputs": [],
      "source": [
        "batch_size = 32"
      ]
    },
    {
      "cell_type": "code",
      "execution_count": null,
      "metadata": {
        "colab": {
          "base_uri": "https://localhost:8080/",
          "height": 52
        },
        "colab_type": "code",
        "id": "aOePa8OAgOaf",
        "outputId": "11869eef-79d2-424f-cc34-2cbe65006718"
      },
      "outputs": [],
      "source": [
        "train_datagen = ImageDataGenerator(rescale = 1./255,\n",
        "                                   shear_range = 0.4,\n",
        "                                   zoom_range = 0.4,\n",
        "                                   height_shift_range=0.3,\n",
        "                                   width_shift_range=0.3,\n",
        "                                   rotation_range=50,\n",
        "                                   horizontal_flip = True)\n",
        "\n",
        "test_datagen = ImageDataGenerator(rescale = 1./255)\n",
        "\n",
        "training_set = train_datagen.flow_from_directory('catsxdogs/training_set',\n",
        "                                                 target_size = (224, 224),\n",
        "                                                 batch_size = batch_size,\n",
        "                                                 class_mode = 'binary')\n",
        "\n",
        "test_set = test_datagen.flow_from_directory('catsxdogs/test_set',\n",
        "                                            target_size = (224, 224),\n",
        "                                            batch_size = batch_size,\n",
        "                                            class_mode = 'binary')"
      ]
    },
    {
      "cell_type": "code",
      "execution_count": null,
      "metadata": {
        "colab": {},
        "colab_type": "code",
        "id": "lpeqcs5hgkd8"
      },
      "outputs": [],
      "source": [
        "model.compile(optimizer=Adam(lr = 0.0001),loss='binary_crossentropy',metrics=['accuracy'])"
      ]
    },
    {
      "cell_type": "code",
      "execution_count": null,
      "metadata": {
        "colab": {
          "base_uri": "https://localhost:8080/",
          "height": 442
        },
        "colab_type": "code",
        "id": "3tzvbgsYhkDK",
        "outputId": "b17d2d00-af54-4e75-e9c8-7369c972ceaf"
      },
      "outputs": [],
      "source": [
        "history = model.fit_generator(generator=training_set,\n",
        "                   steps_per_epoch=8000/batch_size,\n",
        "                   epochs=10,\n",
        "                   validation_data = test_set,\n",
        "                   validation_steps = 2000/batch_size)"
      ]
    },
    {
      "cell_type": "code",
      "execution_count": null,
      "metadata": {
        "colab": {},
        "colab_type": "code",
        "id": "9bKzjWBbnXaM"
      },
      "outputs": [],
      "source": [
        "model.save('catsxdogs_mobilenet.h5')\n",
        "from google.colab import files\n",
        "files.download('catsxdogs_mobilenet.h5')"
      ]
    },
    {
      "cell_type": "code",
      "execution_count": null,
      "metadata": {
        "colab": {
          "base_uri": "https://localhost:8080/",
          "height": 52
        },
        "colab_type": "code",
        "id": "-zi2res8DTo4",
        "outputId": "e6717ce1-a566-4324-c496-03232c27ce43"
      },
      "outputs": [],
      "source": [
        "ls catsxdogs/single_prediction"
      ]
    },
    {
      "cell_type": "code",
      "execution_count": null,
      "metadata": {
        "colab": {},
        "colab_type": "code",
        "id": "9qlK2kkPoMD1"
      },
      "outputs": [],
      "source": [
        "test_image = image.load_img('catsxdogs/single_prediction/chino1.jpg', target_size = (224, 224))\n",
        "\n",
        "test_image = image.img_to_array(test_image)\n",
        "test_image = np.expand_dims(test_image, axis = 0)\n",
        "test_image = test_image/255"
      ]
    },
    {
      "cell_type": "code",
      "execution_count": null,
      "metadata": {
        "colab": {
          "base_uri": "https://localhost:8080/",
          "height": 34
        },
        "colab_type": "code",
        "id": "lfF9Lf-XoRgH",
        "outputId": "0e8fe44a-df89-46f9-e461-929aaff6724a"
      },
      "outputs": [],
      "source": [
        "result = model.predict(test_image)\n",
        "\n",
        "if result[0][0] > 0.5:\n",
        "    prediction = 'dog'\n",
        "else:\n",
        "    prediction = 'cat'\n",
        "    \n",
        "print(prediction)"
      ]
    }
  ],
  "metadata": {
    "accelerator": "GPU",
    "colab": {
      "collapsed_sections": [],
      "include_colab_link": true,
      "name": "catsxdogs_transfer.ipynb",
      "provenance": [],
      "version": "0.3.2"

    },
    "kernelspec": {
      "display_name": "Python 3",
      "name": "python3"
    }
      },
  "nbformat": 4,
  "nbformat_minor": 0
}
